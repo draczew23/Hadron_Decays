{
 "cells": [
  {
   "cell_type": "markdown",
   "metadata": {},
   "source": [
    "Libraries"
   ]
  },
  {
   "cell_type": "code",
   "execution_count": 1,
   "metadata": {},
   "outputs": [],
   "source": [
    "from AngDis import PDF\n",
    "import numpy as np\n",
    "from numpy.linalg import multi_dot"
   ]
  },
  {
   "cell_type": "markdown",
   "metadata": {},
   "source": [
    "Initialization"
   ]
  },
  {
   "cell_type": "code",
   "execution_count": 2,
   "metadata": {},
   "outputs": [],
   "source": [
    "pdf=PDF(PPe=1)"
   ]
  },
  {
   "cell_type": "markdown",
   "metadata": {},
   "source": [
    "Our matrices"
   ]
  },
  {
   "cell_type": "code",
   "execution_count": 3,
   "metadata": {},
   "outputs": [],
   "source": [
    "DL0 = pdf.DL0\n",
    "DLb0 = pdf.DLb0 \n",
    "DX = pdf.DX\n",
    "DXb = pdf.DXb\n",
    "CC = pdf.CC"
   ]
  },
  {
   "cell_type": "markdown",
   "metadata": {},
   "source": [
    "Filling matrices with some values"
   ]
  },
  {
   "cell_type": "code",
   "execution_count": 4,
   "metadata": {},
   "outputs": [],
   "source": [
    "tX, tL, pL, tLb, pLb, tp, pp, tpb, ppb = 0.001, 0.002, 0.003, 0.004, 0.005, 0.006, 0.007, 0.008, 0.009"
   ]
  },
  {
   "cell_type": "code",
   "execution_count": 5,
   "metadata": {},
   "outputs": [],
   "source": [
    "CC.get_kine_calc_trig(tX)\n",
    "DX.get_kine_calc_trig(tL, pL)\n",
    "DXb.get_kine_calc_trig(tLb, pLb)\n",
    "DL0.get_kine_calc_trig(tp, pp)\n",
    "DLb0.get_kine_calc_trig(tpb, ppb)"
   ]
  },
  {
   "cell_type": "code",
   "execution_count": 6,
   "metadata": {},
   "outputs": [],
   "source": [
    "dC_A = CC.create_matrix()\n",
    "dX_A = DX.create_matrix()\n",
    "dXb_A = DXb.create_matrix()\n",
    "dL0_A = DL0.create_matrix()\n",
    "dLb0_A = DLb0.create_matrix()"
   ]
  },
  {
   "cell_type": "markdown",
   "metadata": {},
   "source": [
    "Division of calculation into steps"
   ]
  },
  {
   "cell_type": "code",
   "execution_count": 7,
   "metadata": {},
   "outputs": [
    {
     "name": "stdout",
     "output_type": "stream",
     "text": [
      "0.1759071397367336\n"
     ]
    }
   ],
   "source": [
    "pdf_x = np.dot(dX_A, dL0_A[:,0])  #-> define only full Xi decay     \n",
    "pdf_xb = np.dot(dXb_A, dLb0_A[:,0])  #-> define only full Xibar decay  \n",
    "pdf_steps = multi_dot([pdf_x, dC_A, pdf_xb])  #-> final product of all matrices\n",
    "print(pdf_steps)"
   ]
  },
  {
   "cell_type": "markdown",
   "metadata": {},
   "source": [
    "One multidot"
   ]
  },
  {
   "cell_type": "code",
   "execution_count": 8,
   "metadata": {},
   "outputs": [
    {
     "name": "stdout",
     "output_type": "stream",
     "text": [
      "0.07977506827925016\n"
     ]
    }
   ],
   "source": [
    "pdf_multi = multi_dot([dL0_A[:,0], dC_A, dX_A, dXb_A, dLb0_A[:,0]])\n",
    "print(pdf_multi)"
   ]
  },
  {
   "cell_type": "markdown",
   "metadata": {},
   "source": [
    "Different order"
   ]
  },
  {
   "cell_type": "code",
   "execution_count": 9,
   "metadata": {},
   "outputs": [
    {
     "name": "stdout",
     "output_type": "stream",
     "text": [
      "4.208476664319448\n"
     ]
    }
   ],
   "source": [
    "pdf_multi_diff = multi_dot([dLb0_A[:,0], dC_A, dX_A, dXb_A, dL0_A[:,0]])\n",
    "print(pdf_multi_diff)"
   ]
  },
  {
   "cell_type": "markdown",
   "metadata": {},
   "source": [
    "Calculation via for loop directly"
   ]
  },
  {
   "cell_type": "code",
   "execution_count": 10,
   "metadata": {},
   "outputs": [
    {
     "name": "stdout",
     "output_type": "stream",
     "text": [
      "0.17590713973673372\n"
     ]
    }
   ],
   "source": [
    "pdf_sum = 0\n",
    "for mu in [0, 1, 2, 3]:\n",
    "    for nu in [0, 1, 2, 3]:\n",
    "        pdf_sum += dC_A[mu][nu] * (dX_A[mu][0]*dL0_A[0] + dX_A[mu][1]*dL0_A[1] + dX_A[mu][2]*dL0_A[2] + dX_A[mu][3]*dL0_A[3])\\\n",
    "                         * (dXb_A[nu][0]*dLb0_A[0] + dXb_A[nu][1]*dLb0_A[1] + dXb_A[nu][2]*dLb0_A[2] + dXb_A[nu][3]*dLb0_A[3])\n",
    "P = (1/(4*np.pi)**5)*pdf_sum[0]\n",
    "print(pdf_sum[0])"
   ]
  },
  {
   "cell_type": "markdown",
   "metadata": {},
   "source": [
    "Compliance between direct calculation and with using dot (but with division into steps)"
   ]
  },
  {
   "cell_type": "code",
   "execution_count": 11,
   "metadata": {},
   "outputs": [
    {
     "name": "stdout",
     "output_type": "stream",
     "text": [
      "The compliance is 99.99999999999993 %\n"
     ]
    }
   ],
   "source": [
    "r = (pdf_steps/pdf_sum[0])*100\n",
    "print('The compliance is {} %'.format(r))"
   ]
  },
  {
   "cell_type": "markdown",
   "metadata": {},
   "source": [
    "Percentage differences from the correct value"
   ]
  },
  {
   "cell_type": "code",
   "execution_count": 12,
   "metadata": {},
   "outputs": [
    {
     "name": "stdout",
     "output_type": "stream",
     "text": [
      "Percentage differences from the correct value are  54.649328959220625 % and 2292.442211622532 % (different order multiplicaiton)\n"
     ]
    }
   ],
   "source": [
    "correct_val = pdf_steps\n",
    "er1 = abs(correct_val - pdf_multi) / (correct_val) * 100\n",
    "er2 = abs(correct_val - pdf_multi_diff) / (correct_val) * 100\n",
    "\n",
    "print(\"Percentage differences from the correct value are  {} % and {} % (different order multiplicaiton)\".format(er1, er2))"
   ]
  }
 ],
 "metadata": {
  "kernelspec": {
   "display_name": "Python 3.10.5 ('my-environment')",
   "language": "python",
   "name": "python3"
  },
  "language_info": {
   "codemirror_mode": {
    "name": "ipython",
    "version": 3
   },
   "file_extension": ".py",
   "mimetype": "text/x-python",
   "name": "python",
   "nbconvert_exporter": "python",
   "pygments_lexer": "ipython3",
   "version": "3.10.5"
  },
  "orig_nbformat": 4,
  "vscode": {
   "interpreter": {
    "hash": "555e06a5513904a71283cba7618c077be443844f12c469bdb4ee29f87de0e3c8"
   }
  }
 },
 "nbformat": 4,
 "nbformat_minor": 2
}

{
 "cells": [
  {
   "cell_type": "code",
   "execution_count": 65,
   "metadata": {},
   "outputs": [],
   "source": [
    "import numpy as np"
   ]
  },
  {
   "cell_type": "code",
   "execution_count": 66,
   "metadata": {},
   "outputs": [],
   "source": [
    "class RotationMatrix:\n",
    "    def __init__(self, theta=0, chi=0, phi=0):\n",
    "        \"\"\"_Class to create a rotation matrix in 4 dimensions based\n",
    "        on the Euler angles (in radians) provided by the user._\n",
    "\n",
    "        Args:\n",
    "            theta (_float_): _the signed angle between the z axis and the Z axis_\n",
    "            chi (_float_): _the signed angle between the N axis and the X axis_\n",
    "            phi (_float_): _the signed angle between the x axis and the N axis_\n",
    "        \"\"\"\n",
    "        self.theta = theta\n",
    "        self.chi = chi\n",
    "        self.phi = phi\n",
    "        self.R = np.zeros((4, 4))\n",
    "    \n",
    "    def create(self):\n",
    "        \"\"\"_This function creates a rotation matrix based on the Euler angles_\n",
    "        \"\"\"\n",
    "        theta = self.theta\n",
    "        chi = self.chi\n",
    "        phi = self.phi\n",
    "\n",
    "        cth = np.cos(theta)\n",
    "        sth = np.sin(theta)\n",
    "        cch = np.cos(chi)\n",
    "        sch = np.sin(chi)\n",
    "        cph = np.cos(phi)\n",
    "        sph = np.sin(phi)\n",
    "\n",
    "        self.R[0, 0] = 1\n",
    "        self.R[1, 1] = cth*cch*cph - sch*sph\n",
    "        self.R[1, 2] = -cth*sch*cph - cch*sph\n",
    "        self.R[1, 3] = sth*cph\n",
    "        self.R[2, 1] = cth*cch*sph + sch*cph\n",
    "        self.R[2, 2] = cch*cph - cth*sch*sph\n",
    "        self.R[2, 3] = sth*sph\n",
    "        self.R[3, 1] = -sth*cph\n",
    "        self.R[3, 2] = sth*sch\n",
    "        self.R[3, 3] = cth"
   ]
  },
  {
   "attachments": {},
   "cell_type": "markdown",
   "metadata": {},
   "source": [
    "Initialization of rotation matrix and example matrix"
   ]
  },
  {
   "cell_type": "code",
   "execution_count": 75,
   "metadata": {},
   "outputs": [
    {
     "data": {
      "text/plain": [
       "array([[ 1.        ,  0.        ,  0.        ,  0.        ],\n",
       "       [ 0.        ,  0.61237244, -0.70710678,  0.35355339],\n",
       "       [ 0.        ,  0.61237244,  0.70710678,  0.35355339],\n",
       "       [ 0.        , -0.35355339,  0.        ,  0.8660254 ]])"
      ]
     },
     "execution_count": 75,
     "metadata": {},
     "output_type": "execute_result"
    }
   ],
   "source": [
    "b = np.arange(0, 16).reshape(4, 4)\n",
    "\n",
    "theta = np.radians(30)\n",
    "phi = np.radians(45)\n",
    "chi = np.radians(0)\n",
    "\n",
    "RotMat = RotationMatrix(theta=theta, phi=phi, chi=chi)\n",
    "RotMat.create()\n",
    "R = RotMat.R\n",
    "R"
   ]
  },
  {
   "attachments": {},
   "cell_type": "markdown",
   "metadata": {},
   "source": [
    "Calculation of rotation of b matrix (explicitly)"
   ]
  },
  {
   "cell_type": "code",
   "execution_count": 68,
   "metadata": {},
   "outputs": [
    {
     "data": {
      "text/plain": [
       "array([[ 0.        ,  1.        ,  2.        ,  3.        ],\n",
       "       [ 1.03527618,  1.29409523,  1.55291427,  1.81173332],\n",
       "       [12.34898468, 14.02201729, 15.69504989, 17.3680825 ],\n",
       "       [ 8.97809128,  9.4905633 , 10.00303531, 10.51550732]])"
      ]
     },
     "execution_count": 68,
     "metadata": {},
     "output_type": "execute_result"
    }
   ],
   "source": [
    "B = np.zeros((4, 4))\n",
    "\n",
    "B[0, 0] = R[0, 0]*b[0, 0]\n",
    "B[0, 1] = R[0, 0]*b[0, 1]\n",
    "B[0, 2] = R[0, 0]*b[0, 2] \n",
    "B[0, 3] = R[0, 0]*b[0, 3]\n",
    "B[1, 0] = R[1, 1]*b[1, 0] + R[1, 2]*b[2, 0] + R[1, 3]*b[3, 0]\n",
    "B[1, 1] = R[1, 1]*b[1, 1] + R[1, 2]*b[2, 1] + R[1, 3]*b[3, 1]\n",
    "B[1, 2] = R[1, 1]*b[1, 2] + R[1, 2]*b[2, 2] + R[1, 3]*b[3, 2]\n",
    "B[1, 3] = R[1, 1]*b[1, 3] + R[1, 2]*b[2, 3] + R[1, 3]*b[3, 3]\n",
    "B[2, 0] = R[2, 1]*b[1, 0] + R[2, 2]*b[2, 0] + R[2, 3]*b[3, 0]\n",
    "B[2, 1] = R[2, 1]*b[1, 1] + R[2, 2]*b[2, 1] + R[2, 3]*b[3, 1]\n",
    "B[2, 2] = R[2, 1]*b[1, 2] + R[2, 2]*b[2, 2] + R[2, 3]*b[3, 2]\n",
    "B[2, 3] = R[2, 1]*b[1, 3] + R[2, 2]*b[2, 3] + R[2, 3]*b[3, 3]\n",
    "B[3, 0] = R[3, 1]*b[1, 0] + R[3, 2]*b[2, 0] + R[3, 3]*b[3, 0]\n",
    "B[3, 1] = R[3, 1]*b[1, 1] + R[3, 2]*b[2, 1] + R[3, 3]*b[3, 1]\n",
    "B[3, 2] = R[3, 1]*b[1, 2] + R[3, 2]*b[2, 2] + R[3, 3]*b[3, 2]\n",
    "B[3, 3] = R[3, 1]*b[1, 3] + R[3, 2]*b[2, 3] + R[3, 3]*b[3, 3]\n",
    "\n",
    "B"
   ]
  },
  {
   "attachments": {},
   "cell_type": "markdown",
   "metadata": {},
   "source": [
    "Using numpy function"
   ]
  },
  {
   "cell_type": "code",
   "execution_count": 69,
   "metadata": {},
   "outputs": [
    {
     "data": {
      "text/plain": [
       "array([[ 0.        ,  1.        ,  2.        ,  3.        ],\n",
       "       [ 1.03527618,  1.29409523,  1.55291427,  1.81173332],\n",
       "       [12.34898468, 14.02201729, 15.69504989, 17.3680825 ],\n",
       "       [ 8.97809128,  9.4905633 , 10.00303531, 10.51550732]])"
      ]
     },
     "execution_count": 69,
     "metadata": {},
     "output_type": "execute_result"
    }
   ],
   "source": [
    "B_prim = np.matmul(R, b)\n",
    "B_prim"
   ]
  },
  {
   "attachments": {},
   "cell_type": "markdown",
   "metadata": {},
   "source": [
    "Checking if changing one of the angles leads to a change in the whole rotation matrix"
   ]
  },
  {
   "cell_type": "code",
   "execution_count": 70,
   "metadata": {},
   "outputs": [
    {
     "data": {
      "text/plain": [
       "array([[ 1.        ,  0.        ,  0.        ,  0.        ],\n",
       "       [ 0.        ,  0.61237244, -0.70710678,  0.35355339],\n",
       "       [ 0.        ,  0.61237244,  0.70710678,  0.35355339],\n",
       "       [ 0.        , -0.35355339,  0.        ,  0.8660254 ]])"
      ]
     },
     "execution_count": 70,
     "metadata": {},
     "output_type": "execute_result"
    }
   ],
   "source": [
    "theta = np.radians(30)\n",
    "phi = np.radians(45)\n",
    "chi = np.radians(0)\n",
    "\n",
    "RotMat = RotationMatrix(theta=theta, phi=phi, chi=chi)\n",
    "RotMat.create()\n",
    "R = RotMat.R\n",
    "theta_prim = np.radians(90)\n",
    "R"
   ]
  },
  {
   "cell_type": "code",
   "execution_count": 71,
   "metadata": {},
   "outputs": [
    {
     "data": {
      "text/plain": [
       "array([[ 1.00000000e+00,  0.00000000e+00,  0.00000000e+00,\n",
       "         0.00000000e+00],\n",
       "       [ 0.00000000e+00,  4.32978028e-17, -7.07106781e-01,\n",
       "         7.07106781e-01],\n",
       "       [ 0.00000000e+00,  4.32978028e-17,  7.07106781e-01,\n",
       "         7.07106781e-01],\n",
       "       [ 0.00000000e+00, -7.07106781e-01,  0.00000000e+00,\n",
       "         6.12323400e-17]])"
      ]
     },
     "execution_count": 71,
     "metadata": {},
     "output_type": "execute_result"
    }
   ],
   "source": [
    "RotMat.theta = theta_prim\n",
    "RotMat.create()\n",
    "RotMat.R"
   ]
  },
  {
   "attachments": {},
   "cell_type": "markdown",
   "metadata": {},
   "source": [
    "Default behaviour"
   ]
  },
  {
   "cell_type": "code",
   "execution_count": 74,
   "metadata": {},
   "outputs": [
    {
     "data": {
      "text/plain": [
       "array([[ 1.,  0.,  0.,  0.],\n",
       "       [ 0.,  1., -0.,  0.],\n",
       "       [ 0.,  0.,  1.,  0.],\n",
       "       [ 0., -0.,  0.,  1.]])"
      ]
     },
     "execution_count": 74,
     "metadata": {},
     "output_type": "execute_result"
    }
   ],
   "source": [
    "r = RotationMatrix()\n",
    "r.create()\n",
    "r.R"
   ]
  }
 ],
 "metadata": {
  "kernelspec": {
   "display_name": "my-environment",
   "language": "python",
   "name": "python3"
  },
  "language_info": {
   "codemirror_mode": {
    "name": "ipython",
    "version": 3
   },
   "file_extension": ".py",
   "mimetype": "text/x-python",
   "name": "python",
   "nbconvert_exporter": "python",
   "pygments_lexer": "ipython3",
   "version": "3.10.5"
  },
  "orig_nbformat": 4,
  "vscode": {
   "interpreter": {
    "hash": "555e06a5513904a71283cba7618c077be443844f12c469bdb4ee29f87de0e3c8"
   }
  }
 },
 "nbformat": 4,
 "nbformat_minor": 2
}

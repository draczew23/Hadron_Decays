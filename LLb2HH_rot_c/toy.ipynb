{
 "cells": [
  {
   "cell_type": "code",
   "execution_count": 1,
   "metadata": {},
   "outputs": [],
   "source": [
    "import numpy as np"
   ]
  },
  {
   "attachments": {},
   "cell_type": "markdown",
   "metadata": {},
   "source": [
    "Generation of the other three variables basend on the value of the first variable."
   ]
  },
  {
   "cell_type": "code",
   "execution_count": 2,
   "metadata": {},
   "outputs": [],
   "source": [
    "# z = 0.03\n",
    "# val = 1 - input_var** 2\n",
    "# other_var_gen_1 = np.random.uniform(0, val)\n",
    "# val2 = val - other_var_gen_1 ** 2\n",
    "# other_var_gen_2 = np.sqrt(val - other_var_gen_1 ** 2)\n",
    "\n",
    "# print(other_var_gen_2**2 + other_var_gen_1**2 + input_var**2)"
   ]
  },
  {
   "attachments": {},
   "cell_type": "markdown",
   "metadata": {},
   "source": [
    "Read txt file as a numpother_var_gen_1 arraother_var_gen_1"
   ]
  },
  {
   "cell_type": "code",
   "execution_count": 3,
   "metadata": {},
   "outputs": [
    {
     "name": "stdout",
     "output_type": "stream",
     "text": [
      "[[ 1.  2.  3.  4.]\n",
      " [ 5.  6.  7.  8.]\n",
      " [ 9. 10. 11. 12.]\n",
      " [13. 14. 15. 16.]]\n"
     ]
    }
   ],
   "source": [
    "# Text file data converted to integer data type\n",
    "File_data = np.loadtxt(\"t.txt\", delimiter=';')\n",
    "print(File_data)"
   ]
  },
  {
   "cell_type": "code",
   "execution_count": 17,
   "metadata": {},
   "outputs": [
    {
     "data": {
      "text/plain": [
       "array([0.3       , 0.77700103, 0.55341612])"
      ]
     },
     "execution_count": 17,
     "metadata": {},
     "output_type": "execute_result"
    }
   ],
   "source": [
    "def gen_2_other_based_on_1(var_name='aX', var_value=0.):\n",
    "    \"\"\"_This function generates 2 parameters based on the input parameter value in a way that\n",
    "        the following condition is fulfilled:\n",
    "\n",
    "        aX^2 + aY^2 + aZ^2 = 1_\n",
    "\n",
    "        Through the var_name parameter we specify the parameter on the basis of which the others will be generated.\n",
    "\n",
    "    Args:\n",
    "        var_name (str, optional): _name of the chosen variable_. Defaults to 'aX'.\n",
    "        var_value (_float_, optional): _value of the chosen variable_. Defaults to 0..\n",
    "    \n",
    "    Returns:\n",
    "        _numpy.ndarray_: one-dimensional vector of parameters [aX, aY, aZ]__\n",
    "    \"\"\"\n",
    "\n",
    "    match var_name:\n",
    "        case 'aX':\n",
    "            input_var = var_value\n",
    "            val = 1 - input_var** 2\n",
    "            other_var_gen_1 = np.random.uniform(0, val)\n",
    "            other_var_gen_2 = np.sqrt(val - other_var_gen_1 ** 2)\n",
    "            \n",
    "            return np.array([input_var, other_var_gen_1, other_var_gen_2])\n",
    "\n",
    "        case 'aY':\n",
    "            input_var = var_value\n",
    "            val = 1 - input_var** 2\n",
    "            other_var_gen_1 = np.random.uniform(0, val)\n",
    "            other_var_gen_2 = np.sqrt(val - other_var_gen_1 ** 2)\n",
    "            \n",
    "            return np.array([other_var_gen_2, input_var, other_var_gen_1])\n",
    "\n",
    "        case 'aZ':\n",
    "            input_var = var_value\n",
    "            val = 1 - input_var** 2\n",
    "            other_var_gen_1 = np.random.uniform(0, val)\n",
    "            other_var_gen_2 = np.sqrt(val - other_var_gen_1 ** 2)\n",
    "            \n",
    "            return np.array([other_var_gen_2, other_var_gen_1, input_var])\n",
    "        \n",
    "        case _:\n",
    "            print(\"Wrong variable name!\")\n",
    "\n",
    "vec = gen_2_other_based_on_1(var_name='aX', var_value=0.3)\n",
    "vec"
   ]
  },
  {
   "cell_type": "code",
   "execution_count": 15,
   "metadata": {},
   "outputs": [
    {
     "name": "stdout",
     "output_type": "stream",
     "text": [
      "1.0\n"
     ]
    }
   ],
   "source": [
    "print(vec[0]**2 + vec[1]**2 + vec[2]**2)"
   ]
  },
  {
   "cell_type": "code",
   "execution_count": 6,
   "metadata": {},
   "outputs": [],
   "source": [
    "from AADecay12new import *"
   ]
  },
  {
   "cell_type": "code",
   "execution_count": 7,
   "metadata": {},
   "outputs": [
    {
     "data": {
      "text/plain": [
       "array([0.9384578 , 0.01      , 0.34524912])"
      ]
     },
     "execution_count": 7,
     "metadata": {},
     "output_type": "execute_result"
    }
   ],
   "source": [
    "k = AADecay12new(1, 2, 3)\n",
    "k.create_matrix()\n",
    "k.A\n",
    "k.gen_2_other_based_on_1(var_name='ay', var_value=0.01)\n",
    "\n",
    "# AADecay12new.gen_2_other_based_on_1(var_name='aX', var_value=0.01)"
   ]
  }
 ],
 "metadata": {
  "kernelspec": {
   "display_name": "base",
   "language": "python",
   "name": "python3"
  },
  "language_info": {
   "codemirror_mode": {
    "name": "ipython",
    "version": 3
   },
   "file_extension": ".py",
   "mimetype": "text/x-python",
   "name": "python",
   "nbconvert_exporter": "python",
   "pygments_lexer": "ipython3",
   "version": "3.10.9"
  },
  "orig_nbformat": 4,
  "vscode": {
   "interpreter": {
    "hash": "1448b48b023bcc9c3d4a79e814720a10ca6d4244f75e0f7ce4af58f96ba2b7d3"
   }
  }
 },
 "nbformat": 4,
 "nbformat_minor": 2
}
